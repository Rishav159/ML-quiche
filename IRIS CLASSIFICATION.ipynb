{
 "cells": [
  {
   "cell_type": "markdown",
   "metadata": {},
   "source": [
    "# CLASSIFICATION OF IRIS DATASET"
   ]
  },
  {
   "cell_type": "code",
   "execution_count": 26,
   "metadata": {
    "collapsed": false
   },
   "outputs": [],
   "source": [
    "#WORKING WITH IRIS DATA SET\n",
    "\n",
    "from sklearn import datasets\n",
    "iris= datasets.load_iris()\n",
    "x_iris,y_iris=iris.data,iris.target\n",
    "#print(x_iris)\n",
    "#rint(y_iris)\n",
    "\n"
   ]
  },
  {
   "cell_type": "markdown",
   "metadata": {},
   "source": [
    "Learning the parameters of a prediction function and testing it on the same data is a methodological mistake:\n",
    "a model that would just repeat the labels of the samples that it has just seen would have a perfect score\n",
    "but would fail to predict anything useful on yet-unseen data.\n",
    "This situation is called overfitting.\n",
    "\n",
    "sklearn.model_selection.train_test_split(*arrays, **options)[source]  :\n",
    "\n",
    "Split arrays or matrices into random train and test subsets\n",
    "\n",
    "\n",
    "\n"
   ]
  },
  {
   "cell_type": "code",
   "execution_count": 21,
   "metadata": {
    "collapsed": false
   },
   "outputs": [
    {
     "name": "stdout",
     "output_type": "stream",
     "text": [
      "(105, 2)\n"
     ]
    }
   ],
   "source": [
    "#evaluation of the dataset\n",
    "\n",
    "from sklearn.cross_validation import train_test_split\n",
    "from sklearn import preprocessing\n",
    "#get the data from first two coloumns of the given test dat\n",
    "\n",
    "x,y=x_iris[:, :2],y_iris\n",
    "#split data into test and training datasets 30% for testing and random_state of 40%\n",
    "\n",
    "x_train,x_test,y_train,y_test=train_test_split(x,y,test_size=0.30, random_state=40)\n",
    "print(x_train.shape)"
   ]
  },
  {
   "cell_type": "markdown",
   "metadata": {},
   "source": [
    "Standardizing the features \n",
    "\n",
    "Standardize features by removing the mean and scaling to unit variance\n",
    "Standardization of a dataset is a common requirement for many machine learning estimators: they might behave badly if the individual feature do not more or less look like standard normally distributed data \n",
    "(e.g. Gaussian with 0 mean and unit variance).\n",
    "\n",
    "These three lines of the previous code modify the training set in a process usually called feature scaling.\n",
    "#For each feature, calculate the average, subtract the mean\n",
    "#value from the feature value, and divide the result by their standard deviation."
   ]
  },
  {
   "cell_type": "code",
   "execution_count": 22,
   "metadata": {
    "collapsed": true
   },
   "outputs": [],
   "source": [
    "#stardardize\n",
    "\n",
    "scaler=preprocessing.StandardScaler().fit(x_train)#fit used to feed the trainer\n",
    "x_train=scaler.transform(x_train)\n",
    "x_test=scaler.transform(x_test)\n",
    "\n"
   ]
  },
  {
   "cell_type": "code",
   "execution_count": 23,
   "metadata": {
    "collapsed": false
   },
   "outputs": [
    {
     "data": {
      "image/png": "[encoded data removed]",
      "text/plain": [
       "<matplotlib.figure.Figure at 0x7f57e63a6eb8>"
      ]
     },
     "metadata": {},
     "output_type": "display_data"
    }
   ],
   "source": [
    "#visualisation of the training datasets\n",
    "import matplotlib.pyplot as plt\n",
    "colors=['red','yellow','blue']\n",
    "for i in range(len(colors)):\n",
    "    xs=x_train[:, 0][y_train==i]\n",
    "    ys=x_train[:, 1][y_train==i]\n",
    "    #yz=x_train[:, 2][y_train==i]\n",
    "    plt.scatter(xs,ys,c=colors[i])\n",
    "plt.legend(iris.target_names)\n",
    "plt.xlabel('sepal length')\n",
    "plt.ylabel('sepal width')\n",
    "plt.show()\n"
   ]
  },
  {
   "cell_type": "markdown",
   "metadata": {},
   "source": [
    "If we look at the picture, it seems that we could draw a straight line that correctly\n",
    "separates both the sets (perhaps with the exception of one or two dots, which\n",
    "could lie in the incorrect side of the line). This is exactly what our first classification\n",
    "method, linear classification models, tries to do: build a line (or, more generally, a\n",
    "hyperplane in the feature space) that best separates both the target classes, and use\n",
    "it as a decision boundary (that is, the class membership depends on what side of the\n",
    "hyperplane the instance is)."
   ]
  },
  {
   "cell_type": "markdown",
   "metadata": {},
   "source": [
    "# SGD LINEAR CLASSIFICATION\n",
    "\n",
    "find the local minimum of a function (in this case, the loss function, which\n",
    "measures how far every instance is from our boundary). The algorithm will learn the\n",
    "coefficients of the hyperplane by minimizing the loss function.\n",
    "\n",
    "To use any method in scikit-learn, we must first create the corresponding classifier\n",
    "object, initialize its parameters, and train the model that better fits the training data.\n",
    "\n",
    ">>> from sklearn.linear_modelsklearn._model import SGDClassifier\n",
    ">>> clf = SGDClassifier()\n",
    ">>> clf.fit(X_train, y_train)\n",
    "\n",
    "The SGDClassifier initialization function allows several parameters.\n",
    "\n",
    "The fit:\n",
    "function is probably the most important one in scikit-learn. It receives the training\n",
    "data and the training classes, and builds the classifier. Every supervised learning\n",
    "method in scikit-learn implements this function.\n",
    "\n",
    "### For linear Classification:\n",
    "\n",
    "The coef_ attribute of the clf object (consider, for\n",
    "the moment, only the first row of the matrices), now has the coefficients of the linear\n",
    "boundary \n",
    "and the intercept_ attribute, the point of intersection of the line with the y axis."
   ]
  },
  {
   "cell_type": "code",
   "execution_count": 27,
   "metadata": {
    "collapsed": false
   },
   "outputs": [
    {
     "name": "stdout",
     "output_type": "stream",
     "text": [
      "[[-33.40370655  18.58503794]\n",
      " [ -1.61519189 -13.79643429]\n",
      " [ 19.38230267  -1.53293714]]\n",
      "[-20.79264108  -2.20547028  -2.29236365]\n"
     ]
    }
   ],
   "source": [
    "from sklearn.linear_model import SGDClassifier\n",
    "clf = SGDClassifier()\n",
    "clf.fit(x_train, y_train)\n",
    "print(clf.coef_)\n",
    "\n",
    "print(clf.intercept_)\n",
    "\n"
   ]
  },
  {
   "cell_type": "markdown",
   "metadata": {},
   "source": [
    "-17.62477802 - 28.53692691 * x1 + 15.05517618 * x2 = 0\n",
    "\n",
    "Now, given x1 and x2 (our real-valued features), we just have to compute the value\n",
    "of the left-side of the equation: if its value is greater than zero, then the point is\n",
    "above the decision boundary (the red side), otherwise it will be beneath the line (the\n",
    "green or blue side). Our prediction algorithm will simply check this and predict the\n",
    "corresponding class for any new iris flower."
   ]
  },
  {
   "cell_type": "code",
   "execution_count": null,
   "metadata": {
    "collapsed": true
   },
   "outputs": [],
   "source": []
  }
 ],
 "metadata": {
  "anaconda-cloud": {},
  "kernelspec": {
   "display_name": "Python [default]",
   "language": "python",
   "name": "python3"
  },
  "language_info": {
   "codemirror_mode": {
    "name": "ipython",
    "version": 3
   },
   "file_extension": ".py",
   "mimetype": "text/x-python",
   "name": "python",
   "nbconvert_exporter": "python",
   "pygments_lexer": "ipython3",
   "version": "3.5.2"
  }
 },
 "nbformat": 4,
 "nbformat_minor": 1
}
